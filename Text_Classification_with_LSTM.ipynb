{
  "nbformat": 4,
  "nbformat_minor": 0,
  "metadata": {
    "colab": {
      "name": "Text Classification with LSTM",
      "provenance": [],
      "authorship_tag": "ABX9TyOte/nIwHaK9bckS3MrhAPb",
      "include_colab_link": true
    },
    "kernelspec": {
      "name": "python3",
      "display_name": "Python 3"
    },
    "language_info": {
      "name": "python"
    }
  },
  "cells": [
    {
      "cell_type": "markdown",
      "metadata": {
        "id": "view-in-github",
        "colab_type": "text"
      },
      "source": [
        "<a href=\"https://colab.research.google.com/github/LbFARES/Overview-paper/blob/main/Text_Classification_with_LSTM.ipynb\" target=\"_parent\"><img src=\"https://colab.research.google.com/assets/colab-badge.svg\" alt=\"Open In Colab\"/></a>"
      ]
    },
    {
      "cell_type": "code",
      "execution_count": 15,
      "metadata": {
        "colab": {
          "base_uri": "https://localhost:8080/"
        },
        "id": "Na9q51sc8f6I",
        "outputId": "7315a6b4-eafd-4a65-a395-ab988677b233"
      },
      "outputs": [
        {
          "output_type": "stream",
          "name": "stdout",
          "text": [
            "Model: \"sequential_4\"\n",
            "_________________________________________________________________\n",
            " Layer (type)                Output Shape              Param #   \n",
            "=================================================================\n",
            " embedding_3 (Embedding)     (None, 500, 32)           192000    \n",
            "                                                                 \n",
            " lstm_3 (LSTM)               (None, 100)               53200     \n",
            "                                                                 \n",
            " dense_3 (Dense)             (None, 1)                 101       \n",
            "                                                                 \n",
            "=================================================================\n",
            "Total params: 245,301\n",
            "Trainable params: 245,301\n",
            "Non-trainable params: 0\n",
            "_________________________________________________________________\n",
            "None\n"
          ]
        }
      ],
      "source": [
        "import numpy as np\n",
        "import tensorflow as tf\n",
        "from keras.datasets import imdb\n",
        "from keras.layers import LSTM, Embedding, Dense\n",
        "\n",
        "from keras.models import Sequential\n",
        "# import the builtin time module\n",
        "\n",
        "\n",
        "# fix random seed for reproducibility\n",
        "np.random.seed(7)\n",
        "# load the dataset but only keep the top 6000 words\n",
        "(X_train, y_train), (X_test, y_test) = imdb.load_data(num_words=6000)\n",
        "# pad input sequences\n",
        "X_train = tf.keras.preprocessing.sequence.pad_sequences(X_train, maxlen=500)\n",
        "X_test = tf.keras.preprocessing.sequence.pad_sequences(X_test, maxlen=500)\n",
        "#model\n",
        "model = Sequential()\n",
        "model.add(Embedding(6000, 32, input_length=500))\n",
        "model.add(LSTM(100))\n",
        "model.add(Dense(1, activation='sigmoid'))\n",
        "model.compile(loss='binary_crossentropy', optimizer='adam', metrics=['accuracy'])\n",
        "print(model.summary())\n"
      ]
    },
    {
      "cell_type": "markdown",
      "source": [
        ""
      ],
      "metadata": {
        "id": "jhnczp79HzmJ"
      }
    },
    {
      "cell_type": "code",
      "source": [
        "import time\n",
        "\n"
      ],
      "metadata": {
        "id": "nZu17vUcH0Mb"
      },
      "execution_count": 16,
      "outputs": []
    },
    {
      "cell_type": "code",
      "source": [
        "# Grab Currrent Time Before Running the Code\n",
        "start = time.time()\n",
        "\n",
        "history = model.fit(X_train,y_train,shuffle=True, epochs=3,\n",
        "                    verbose=1,validation_split=0.1)\n",
        "\n",
        "# Grab Currrent Time After Running the Code\n",
        "end = time.time()\n",
        "\n",
        "#Subtract Start Time from The End Time\n",
        "total_time = end - start\n",
        "print(\"\\n\"+ str(total_time))"
      ],
      "metadata": {
        "colab": {
          "base_uri": "https://localhost:8080/"
        },
        "id": "AG_wh8ju-p0A",
        "outputId": "8b2ae526-921b-4902-81dc-9a8c71291feb"
      },
      "execution_count": 17,
      "outputs": [
        {
          "output_type": "stream",
          "name": "stdout",
          "text": [
            "Epoch 1/3\n",
            "704/704 [==============================] - 323s 455ms/step - loss: 0.5014 - accuracy: 0.7563 - val_loss: 0.4594 - val_accuracy: 0.7820\n",
            "Epoch 2/3\n",
            "704/704 [==============================] - 318s 452ms/step - loss: 0.3224 - accuracy: 0.8656 - val_loss: 0.3582 - val_accuracy: 0.8504\n",
            "Epoch 3/3\n",
            "704/704 [==============================] - 314s 447ms/step - loss: 0.2629 - accuracy: 0.8961 - val_loss: 0.3184 - val_accuracy: 0.8704\n",
            "\n",
            "955.4557437896729\n"
          ]
        }
      ]
    },
    {
      "cell_type": "code",
      "source": [
        ""
      ],
      "metadata": {
        "id": "u1deG9728iEx"
      },
      "execution_count": null,
      "outputs": []
    }
  ]
}